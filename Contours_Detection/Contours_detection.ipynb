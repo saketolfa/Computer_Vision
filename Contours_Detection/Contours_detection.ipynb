{
 "cells": [
  {
   "cell_type": "markdown",
   "id": "3c179b41",
   "metadata": {},
   "source": [
    "# Contours detection"
   ]
  },
  {
   "cell_type": "code",
   "execution_count": 15,
   "id": "03be41fb",
   "metadata": {},
   "outputs": [],
   "source": [
    "# import libraries\n",
    "import numpy as np\n",
    "import matplotlib.pyplot as plt\n",
    "import cv2"
   ]
  },
  {
   "cell_type": "code",
   "execution_count": 59,
   "id": "6fa742a5",
   "metadata": {},
   "outputs": [],
   "source": [
    "#load the image\n",
    "img = cv2.imread('drawing.png')\n",
    "\n",
    "#make a copy \n",
    "org_img = img.copy()\n"
   ]
  },
  {
   "cell_type": "markdown",
   "id": "b1260950",
   "metadata": {},
   "source": [
    "Object to be found should be white and background should be black.So we will create a binary image from the original one \n"
   ]
  },
  {
   "cell_type": "code",
   "execution_count": 60,
   "id": "2a64509d",
   "metadata": {},
   "outputs": [],
   "source": [
    "binary_img = cv2.cvtColor(img , cv2.COLOR_BGR2GRAY)"
   ]
  },
  {
   "cell_type": "markdown",
   "id": "3e221ba8",
   "metadata": {},
   "source": [
    "findContours(): Detect the borders of white objects from black backgrounds<br/> <br/>\n",
    "        - cv2.RETR_TREE :  contour retrieval mode<br/> <br/>\n",
    "        - cv2.CHAIN_APPROX_SIMPLE:  coordinates of the boundary of a shape"
   ]
  },
  {
   "cell_type": "code",
   "execution_count": 63,
   "id": "b4e8f75e",
   "metadata": {},
   "outputs": [
    {
     "data": {
      "text/plain": [
       "array([[[0, 0, 0],\n",
       "        [0, 0, 0],\n",
       "        [0, 0, 0],\n",
       "        ...,\n",
       "        [0, 0, 0],\n",
       "        [0, 0, 0],\n",
       "        [0, 0, 0]],\n",
       "\n",
       "       [[0, 0, 0],\n",
       "        [0, 0, 0],\n",
       "        [0, 0, 0],\n",
       "        ...,\n",
       "        [0, 0, 0],\n",
       "        [0, 0, 0],\n",
       "        [0, 0, 0]],\n",
       "\n",
       "       [[0, 0, 0],\n",
       "        [0, 0, 0],\n",
       "        [0, 0, 0],\n",
       "        ...,\n",
       "        [0, 0, 0],\n",
       "        [0, 0, 0],\n",
       "        [0, 0, 0]],\n",
       "\n",
       "       ...,\n",
       "\n",
       "       [[0, 0, 0],\n",
       "        [0, 0, 0],\n",
       "        [0, 0, 0],\n",
       "        ...,\n",
       "        [0, 0, 0],\n",
       "        [0, 0, 0],\n",
       "        [0, 0, 0]],\n",
       "\n",
       "       [[0, 0, 0],\n",
       "        [0, 0, 0],\n",
       "        [0, 0, 0],\n",
       "        ...,\n",
       "        [0, 0, 0],\n",
       "        [0, 0, 0],\n",
       "        [0, 0, 0]],\n",
       "\n",
       "       [[0, 0, 0],\n",
       "        [0, 0, 0],\n",
       "        [0, 0, 0],\n",
       "        ...,\n",
       "        [0, 0, 0],\n",
       "        [0, 0, 0],\n",
       "        [0, 0, 0]]], dtype=uint8)"
      ]
     },
     "execution_count": 63,
     "metadata": {},
     "output_type": "execute_result"
    }
   ],
   "source": [
    "# find contours funtion\n",
    "contours,hirarchie = cv2.findContours(binary_img , cv2.RETR_TREE, cv2.CHAIN_APPROX_SIMPLE)\n",
    "\n",
    "# draw contours funtion\n",
    "cv2.drawContours(img, contours,-1 , (0,255,0),2) #-1 to draw all contours\n",
    "\n",
    "#print(contours_detected)\n"
   ]
  },
  {
   "cell_type": "code",
   "execution_count": 62,
   "id": "112d6390",
   "metadata": {},
   "outputs": [],
   "source": [
    "# display images\n",
    "while True:\n",
    "    cv2.imshow('original Image', org_img)\n",
    "    cv2.imshow('contours detection', img)\n",
    "    \n",
    "    if cv2.waitKey(5)== ord('q'):\n",
    "      # exit\n",
    "      break\n",
    "              \n",
    "cv2.destroyAllWindows()"
   ]
  },
  {
   "cell_type": "markdown",
   "id": "51172333",
   "metadata": {},
   "source": [
    "We will apply the same function on another image "
   ]
  },
  {
   "cell_type": "code",
   "execution_count": 64,
   "id": "b640a168",
   "metadata": {},
   "outputs": [],
   "source": [
    "#load the image\n",
    "img = cv2.imread('ecouteur_bluetooth.jpg')\n",
    "# resize the image \n",
    "img = cv2.resize(img ,(650,650) )\n",
    "#make a copy \n",
    "copy_img = img.copy()\n",
    "\n",
    "# convert the image\n",
    "cvt_img = cv2.cvtColor(img , cv2.COLOR_BGR2GRAY)\n",
    "ret , thresh = cv2.threshold(cvt_img , 170 , 255 , cv2.THRESH_BINARY_INV)\n",
    "\n",
    "contours,hirarchie = cv2.findContours(thresh, cv2.RETR_TREE, cv2.CHAIN_APPROX_SIMPLE)\n",
    "cv2.drawContours(img, contours,-1 , (0,255,0),2)\n",
    "#print(contours_detected)\n",
    "\n",
    "while True:\n",
    "    cv2.imshow('original Image', copy_img)\n",
    "    cv2.imshow('contours detection', img)\n",
    "    \n",
    "    if cv2.waitKey(5)== ord('q'):\n",
    "      # exit\n",
    "      break\n",
    "            \n",
    "       \n",
    "cv2.destroyAllWindows()"
   ]
  },
  {
   "cell_type": "markdown",
   "id": "1cbab089",
   "metadata": {},
   "source": [
    "We can try to detect the contours of any blue object that appears on the camera."
   ]
  },
  {
   "cell_type": "code",
   "execution_count": 26,
   "id": "81999284",
   "metadata": {},
   "outputs": [],
   "source": [
    "#open the main camera\n",
    "cap = cv2.VideoCapture(0) # 0 for the main camera\n",
    "\n",
    "while True:\n",
    "    ret, frame = cap.read()\n",
    "    # convert the color into HSV\n",
    "    hsv_frame = cv2.cvtColor(frame , cv2.COLOR_BGR2HSV)\n",
    "    if ret:\n",
    "        \n",
    "        # define a range of the blue color\n",
    "        lower_blue = np.array([38,86,0])\n",
    "        upper_blue = np.array([121,255,255])\n",
    "        \n",
    "        # create a mask\n",
    "        mask = cv2.inRange(hsv_frame , lower_blue , upper_blue)\n",
    "        \n",
    "        #Morphological transformation\n",
    "        kernel = np.ones((5,5) , np.uint8)\n",
    "        erosion_mask= cv2.erode(mask ,kernel , iterations =1 )\n",
    "\n",
    "        \n",
    "        \n",
    "        # contours detection\n",
    "        # step 1 : find contours\n",
    "        contours,hirarchie = cv2.findContours(erosion_mask , cv2.RETR_TREE, cv2.CHAIN_APPROX_SIMPLE)\n",
    "        #print(contours)\n",
    "        #step 2: draw the detected contours\n",
    "        cv2.drawContours(frame, contours,-1 , (0,255,0),2)\n",
    "        \n",
    "        cv2.imshow('Original frame', frame)\n",
    "        #cv2.imshow('HSV  frame', hsv_frame)\n",
    "        cv2.imshow('mask' , mask)\n",
    "        cv2.imshow('erosion mask' ,erosion_mask)\n",
    "        \n",
    "     \n",
    "    if cv2.waitKey(5)== ord('q'):\n",
    "        # exit\n",
    "        break\n",
    "            \n",
    "# release the camera           \n",
    "cap.release()        \n",
    "cv2.destroyAllWindows()"
   ]
  },
  {
   "cell_type": "markdown",
   "id": "bbe39612",
   "metadata": {},
   "source": []
  },
  {
   "cell_type": "markdown",
   "id": "24d9ba2e",
   "metadata": {},
   "source": []
  },
  {
   "cell_type": "markdown",
   "id": "069af4d9",
   "metadata": {},
   "source": [
    "For more information, you can visit the OpenCV documentation at https://docs.opencv.org/4.x/d4/d73/tutorial_py_contours_begin.html"
   ]
  },
  {
   "cell_type": "markdown",
   "id": "4df6f397",
   "metadata": {},
   "source": [
    "                                                        THE END "
   ]
  },
  {
   "cell_type": "code",
   "execution_count": null,
   "id": "05fa82f4",
   "metadata": {},
   "outputs": [],
   "source": []
  }
 ],
 "metadata": {
  "kernelspec": {
   "display_name": "Python 3 (ipykernel)",
   "language": "python",
   "name": "python3"
  },
  "language_info": {
   "codemirror_mode": {
    "name": "ipython",
    "version": 3
   },
   "file_extension": ".py",
   "mimetype": "text/x-python",
   "name": "python",
   "nbconvert_exporter": "python",
   "pygments_lexer": "ipython3",
   "version": "3.8.12"
  }
 },
 "nbformat": 4,
 "nbformat_minor": 5
}
